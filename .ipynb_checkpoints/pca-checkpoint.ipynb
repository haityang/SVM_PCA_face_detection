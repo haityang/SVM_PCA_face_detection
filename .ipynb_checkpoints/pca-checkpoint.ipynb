{
 "cells": [
  {
   "cell_type": "markdown",
   "metadata": {},
   "source": [
    "pca + svm"
   ]
  },
  {
   "cell_type": "code",
   "execution_count": 14,
   "metadata": {},
   "outputs": [],
   "source": [
    "from time import time\n",
    "from PIL import Image\n",
    "import numpy as np\n",
    "import sys\n",
    "from sklearn.model_selection import KFold\n",
    "from sklearn.model_selection import train_test_split\n",
    "from sklearn.decomposition import PCA\n",
    "from sklearn.model_selection import GridSearchCV\n",
    "from sklearn.svm import SVC\n",
    "from sklearn.metrics import classification_report\n",
    "#import matplotlib.pyplot as plt\n",
    "import math\n",
    "import matplotlib.pyplot as plt\n",
    "import os\n",
    "import os.path"
   ]
  },
  {
   "cell_type": "code",
   "execution_count": 23,
   "metadata": {},
   "outputs": [],
   "source": [
    "# 配置AR数据集路径\n",
    "PICTURE_PATH = u\"./dataset/AR/\"\n",
    "PERSON_COUNT = 6 #120个人，\n",
    "FACE_COUNT = 6 #每人26张脸\n",
    "COMPONENT_COUNT = 10 #80个组件"
   ]
  },
  {
   "cell_type": "code",
   "execution_count": 24,
   "metadata": {},
   "outputs": [],
   "source": [
    "# 读取所有图片并一维化\n",
    "# 总图片数PERSON_COUNTxFACE_COUNT, 每张图片长度是 len\n",
    "# all_data_set：所有图片的集合\n",
    "# all_data_label: 每张图片对应的label\n",
    "def get_picture():\n",
    "    label = 1\n",
    "    while (label <= PERSON_COUNT):\n",
    "        sub_label = 1\n",
    "        #每人有2FACE_COUNT张图片\n",
    "        while(sub_label <= FACE_COUNT):\n",
    "            file_name = PICTURE_PATH + \"AR\" + str(label).zfill(3) + \"-\" + str(sub_label) + \".tif\"\n",
    "            if os.path.isfile(file_name):\n",
    "                print(file_name)\n",
    "                img = Image.open(file_name)\n",
    "                all_data_set.append(list(img.getdata()))\n",
    "                all_data_label.append(label)\n",
    "            sub_label += 1\n",
    "                \n",
    "        label += 1"
   ]
  },
  {
   "cell_type": "code",
   "execution_count": 25,
   "metadata": {},
   "outputs": [
    {
     "name": "stdout",
     "output_type": "stream",
     "text": [
      "./dataset/AR/AR001-1.tif\n",
      "./dataset/AR/AR001-2.tif\n",
      "./dataset/AR/AR001-3.tif\n",
      "./dataset/AR/AR001-4.tif\n",
      "./dataset/AR/AR001-5.tif\n",
      "./dataset/AR/AR001-6.tif\n",
      "./dataset/AR/AR002-1.tif\n",
      "./dataset/AR/AR002-2.tif\n",
      "./dataset/AR/AR002-3.tif\n",
      "./dataset/AR/AR002-4.tif\n",
      "./dataset/AR/AR002-5.tif\n",
      "./dataset/AR/AR002-6.tif\n",
      "./dataset/AR/AR003-1.tif\n",
      "./dataset/AR/AR003-2.tif\n",
      "./dataset/AR/AR003-3.tif\n",
      "./dataset/AR/AR003-4.tif\n",
      "./dataset/AR/AR003-5.tif\n",
      "./dataset/AR/AR003-6.tif\n",
      "./dataset/AR/AR004-1.tif\n",
      "./dataset/AR/AR004-2.tif\n",
      "./dataset/AR/AR004-3.tif\n",
      "./dataset/AR/AR004-4.tif\n",
      "./dataset/AR/AR004-5.tif\n",
      "./dataset/AR/AR004-6.tif\n",
      "./dataset/AR/AR005-1.tif\n",
      "./dataset/AR/AR005-2.tif\n",
      "./dataset/AR/AR005-3.tif\n",
      "./dataset/AR/AR005-4.tif\n",
      "./dataset/AR/AR005-5.tif\n",
      "./dataset/AR/AR005-6.tif\n",
      "./dataset/AR/AR006-1.tif\n",
      "./dataset/AR/AR006-2.tif\n",
      "./dataset/AR/AR006-3.tif\n",
      "./dataset/AR/AR006-4.tif\n",
      "./dataset/AR/AR006-5.tif\n",
      "./dataset/AR/AR006-6.tif\n"
     ]
    }
   ],
   "source": [
    "all_data_set = []  # 原始总数据集，二维矩阵n*m，n个样例，m个属性，PERSON_COUNTxFACE_COUNT\n",
    "all_data_label = []  # 总数据对应的类标签\n",
    "get_picture()"
   ]
  },
  {
   "cell_type": "code",
   "execution_count": 36,
   "metadata": {},
   "outputs": [],
   "source": [
    "# 输出核函数与gamma测试图\n",
    "t0 = time()\n",
    "n_components = COMPONENT_COUNT\n",
    "pca = PCA(n_components=n_components, svd_solver='auto',\n",
    "              whiten=True).fit(all_data_set)\n",
    "# PCA降维后的总数据集\n",
    "all_data_pca = pca.transform(all_data_set)\n",
    "# X为降维后的数据，y是对应类标签\n",
    "X = np.array(all_data_pca)\n",
    "y = np.array(all_data_label)"
   ]
  },
  {
   "cell_type": "code",
   "execution_count": 43,
   "metadata": {},
   "outputs": [],
   "source": [
    "# 输入核函数名称和参数gamma值，返回SVM训练十折交叉验证的准确率\n",
    "def SVM(kernel_name, param):\n",
    "    # 十折交叉验证计算出平均准确率\n",
    "    # n_splits交叉验证，随机取\n",
    "    kf = KFold(n_splits=10, shuffle=True)\n",
    "    precision_average = 0.0\n",
    "    param_grid = {'C': [1e3, 5e3, 1e4, 5e4, 1e5]}  # 自动穷举出最优的C参数\n",
    "    clf = GridSearchCV(SVC(kernel=kernel_name, class_weight='balanced', gamma=param),\n",
    "                       param_grid,cv=3)\n",
    "    for train, test in kf.split(X):\n",
    "        clf = clf.fit(X[train], y[train])\n",
    "#         print(clf.best_estimator_)\n",
    "        test_pred = clf.predict(X[test])\n",
    "#         print(classification_report(y[test], test_pred))\n",
    "        # 计算平均准确率\n",
    "        precision = 0\n",
    "        for i in range(0, len(y[test])):\n",
    "            if (y[test][i] == test_pred[i]):\n",
    "                precision = precision + 1\n",
    "        precision_average = precision_average + float(precision) / len(y[test])\n",
    "    precision_average = precision_average / 10\n",
    "\n",
    "    return precision_average"
   ]
  },
  {
   "cell_type": "markdown",
   "metadata": {},
   "source": [
    "#### SVM 性能测试  \n",
    "kernel是svm中选择核函数的参数，其可选选项主要区别如下：  \n",
    "\n",
    "linear：线性核函数,是在数据线性可分的情况下使用的，运算速度快，效果好。不足在于它不能处理线性不可分的数据。  \n",
    "poly：多项式核函数,多项式核函数可以将数据从低维空间映射到高维空间，但参数比较多，计算量大。  \n",
    "rbf：高斯核函数（默认）,高斯核函数同样可以将样本映射到高维空间，但相比于多项式核函数来说所需的参数比较少，通常性能不错，所以是默认使用的核函数。  \n",
    "sigmoid：sigmoid 核函数,sigmoid 经常用在神经网络的映射中。因此当选用 sigmoid 核函数时，SVM 实现的是多层神经网络。 "
   ]
  },
  {
   "cell_type": "code",
   "execution_count": 44,
   "metadata": {},
   "outputs": [
    {
     "name": "stderr",
     "output_type": "stream",
     "text": [
      "/Users/yanghaitao/.pyenv/versions/3.8.11/lib/python3.8/site-packages/sklearn/model_selection/_split.py:601: Warning: The least populated class in y has only 2 members, which is too few. The minimum number of members in any class cannot be less than n_splits=3.\n",
      "  warnings.warn((\"The least populated class in y has only %d\"\n",
      "/Users/yanghaitao/.pyenv/versions/3.8.11/lib/python3.8/site-packages/sklearn/model_selection/_split.py:601: Warning: The least populated class in y has only 2 members, which is too few. The minimum number of members in any class cannot be less than n_splits=3.\n",
      "  warnings.warn((\"The least populated class in y has only %d\"\n"
     ]
    },
    {
     "name": "stdout",
     "output_type": "stream",
     "text": [
      "done in 380.555s\n"
     ]
    },
    {
     "data": {
      "image/png": "[encoded data removed]",
      "text/plain": [
       "<Figure size 432x288 with 1 Axes>"
      ]
     },
     "metadata": {
      "needs_background": "light"
     },
     "output_type": "display_data"
    }
   ],
   "source": [
    "kernel_to_test = ['rbf', 'poly', 'sigmoid']\n",
    "plt.figure(1)\n",
    "for kernel_name in kernel_to_test:\n",
    "    x_label = np.linspace(0.0001, 1, 100)\n",
    "    y_label = []\n",
    "    for i in x_label:\n",
    "        y_label.append(SVM(kernel_name, i))\n",
    "    plt.plot(x_label, y_label, label=kernel_name)\n",
    "\n",
    "print(\"done in %0.3fs\" % (time() - t0))\n",
    "plt.xlabel(\"Gamma\")\n",
    "plt.ylabel(\"Precision\")\n",
    "plt.title('Different Kernels Contrust')\n",
    "plt.legend()\n",
    "plt.show()"
   ]
  },
  {
   "cell_type": "code",
   "execution_count": 45,
   "metadata": {},
   "outputs": [],
   "source": [
    "# N重交叉验证计算出平均准确率\n",
    "def N_fold(clf, fold_size):\n",
    "\n",
    "    precision_average = 0.0\n",
    "    kf = KFold(n_splits=fold_size, shuffle=True)\n",
    "\n",
    "    test_k = []\n",
    "    train_k = []\n",
    "\n",
    "    # 用于展示错误识别图片\n",
    "    show_pic_num = []\n",
    "\n",
    "    j = 0\n",
    "    for i in range(0, PERSON_COUNT):\n",
    "        for train, test in kf.split(np.arange(FACE_COUNT)):\n",
    "            test_offset = np.linspace(FACE_COUNT * i, FACE_COUNT * i, len(test))\n",
    "            test_k.append(test + test_offset)\n",
    "            train_offset = np.linspace(FACE_COUNT * i, FACE_COUNT * i, len(train))\n",
    "            train_k.append(train + train_offset)\n",
    "\n",
    "    for k in range(0, fold_size):\n",
    "        test_key = np.array([])\n",
    "        train_key = np.array([])\n",
    "        for i in range(0, PERSON_COUNT):\n",
    "            test_key = np.append(test_key, test_k[k + fold_size * i])\n",
    "            train_key = np.append(train_key, train_k[k + fold_size * i])\n",
    "\n",
    "        clf = clf.fit(X[train_key.astype(np.int32)], y[train_key.astype(np.int32)])\n",
    "        test_pred = clf.predict(X[test_key.astype(np.int32)])\n",
    "        #print(classification_report(y[test_key.astype(np.int32)], test_pred))\n",
    "        precision = 0\n",
    "        for i in range(0, len(y[test_key.astype(np.int32)])):\n",
    "            if (y[test_key.astype(np.int32)][i] == test_pred[i]):\n",
    "                precision = precision + 1\n",
    "                #print(X[test_key.astype(np.int32)].shape)\n",
    "            else:\n",
    "                # 输出错误分类信息\n",
    "                print(\"true label: \", y[test_key.astype(np.int32)][i], \"wrong label: \", test_pred[i])\n",
    "                true_pic_num = test_key.astype(np.int32)[i]\n",
    "                true_pic_offset = (test_key.astype(np.int32)[i]+1)%FACE_COUNT\n",
    "                wrong_pic_num = test_pred[i] * FACE_COUNT + true_pic_offset - 1\n",
    "                show_pic_num.append(true_pic_num)\n",
    "                show_pic_num.append(wrong_pic_num)\n",
    "                '''\n",
    "                # 单组输出错误识别图片\n",
    "                plt.figure(5)\n",
    "                plt.subplot(1, 2, 1).imshow(np.array(all_data_set)[true_pic_num].reshape((100, 80)),cmap=\"gray\")\n",
    "                plt.title(\"Test image: \")\n",
    "                plt.subplot(1, 2, 2).imshow(np.array(all_data_set)[wrong_pic_num].reshape((100, 80)),cmap=\"gray\")\n",
    "                plt.title(\"Error identified as: \")\n",
    "                plt.show()\n",
    "                '''\n",
    "\n",
    "        single_precision = float(precision) / len(y[test_key.astype(np.int32)])\n",
    "        precision_average = precision_average + single_precision\n",
    "    precision_average = precision_average/fold_size\n",
    "    \n",
    "    '''\n",
    "    # 显示识别错误图片对比\n",
    "    figure_h = math.ceil((len(show_pic_num)/2)**0.5)\n",
    "    figure_w = figure_h * 2\n",
    "\n",
    "    plt.figure(\"Show Wrongly identified images\")\n",
    "    for k in range(0, math.ceil(len(show_pic_num)/2)):\n",
    "        plt.subplot(figure_h, figure_w, 2*k+1).imshow(np.array(all_data_set)[show_pic_num[2*k]].reshape((100, 80)), cmap=\"gray\")\n",
    "        plt.title(\"Test image: \")\n",
    "\n",
    "        plt.subplot(figure_h, figure_w, 2*k+2).imshow(np.array(all_data_set)[show_pic_num[2*k+1]].reshape((100, 80)), cmap=\"gray\")\n",
    "        plt.title(\"Error identified as: \")\n",
    "\n",
    "    plt.xticks([])\n",
    "    plt.yticks([])\n",
    "    plt.show()\n",
    "    '''\n",
    "    return precision_average"
   ]
  },
  {
   "cell_type": "code",
   "execution_count": 46,
   "metadata": {},
   "outputs": [
    {
     "data": {
      "text/plain": [
       "<Figure size 432x288 with 0 Axes>"
      ]
     },
     "metadata": {},
     "output_type": "display_data"
    }
   ],
   "source": [
    "# n_components测试(3-1)\n",
    "plt.figure(4)\n",
    "x_label = range(50, 58)\n",
    "y_label = []\n",
    "n_components_test_result={}"
   ]
  },
  {
   "cell_type": "code",
   "execution_count": 47,
   "metadata": {},
   "outputs": [
    {
     "ename": "SyntaxError",
     "evalue": "EOF while scanning triple-quoted string literal (1672997918.py, line 63)",
     "output_type": "error",
     "traceback": [
      "\u001b[0;36m  File \u001b[0;32m\"/var/folders/5l/v48cx8v924b0ysd5rnbvxt900000gn/T/ipykernel_16931/1672997918.py\"\u001b[0;36m, line \u001b[0;32m63\u001b[0m\n\u001b[0;31m    '\u001b[0m\n\u001b[0m     \n^\u001b[0m\n\u001b[0;31mSyntaxError\u001b[0m\u001b[0;31m:\u001b[0m EOF while scanning triple-quoted string literal\n"
     ]
    }
   ],
   "source": [
    "for n_components in range(COMPONENT_COUNT,COMPONENT+1):\n",
    "    # PCA降维\n",
    "    pca = PCA(n_components=n_components, svd_solver='auto',\n",
    "              whiten=True).fit(all_data_set)\n",
    "    # PCA降维后的总数据集\n",
    "    all_data_pca = pca.transform(all_data_set)\n",
    "    eigenfaces = pca.components_.reshape((n_components, 100, 80))\n",
    "    # X为降维后的数据，y是对应类标签\n",
    "    X = np.array(all_data_pca)\n",
    "    y = np.array(all_data_label)\n",
    "\n",
    "    '''\n",
    "    # 输出Eigenfaces\n",
    "    plt.figure(\"Eigenfaces\")\n",
    "    for i in range(1, 81):\n",
    "        plt.subplot(8, 10, i).imshow(eigenfaces[i-1], cmap=\"gray\")\n",
    "        plt.xticks(())\n",
    "        plt.yticks(())\n",
    "\n",
    "    plt.show()\n",
    "    '''\n",
    "\n",
    "    t0 = time()\n",
    "    param_grid = {'C': [100],\n",
    "                   'gamma': [0.01], }\n",
    "    clf = GridSearchCV(SVC(kernel='rbf', class_weight='balanced'), param_grid, cv=5)\n",
    "    print(\"\\nn_components: \" + str(n_components))\n",
    "\n",
    "    '''\n",
    "    # 输出不同fold_size准确率变化曲线\n",
    "    plt.figure(1)\n",
    "    x_label = []\n",
    "    y_label = []\n",
    "    for m in range(2,11):\n",
    "        acc = 0\n",
    "        x_label.append(m)\n",
    "        for n in range(0, 10):\n",
    "            acc = acc + N_fold(clf, m)*100\n",
    "        y_label.append(acc/10)\n",
    "        plt.plot(x_label, y_label)\n",
    "\n",
    "    print(\"done in %0.3fs\" % (time() - t0))\n",
    "    plt.xlabel(\"fold_size\")\n",
    "    plt.ylabel(\"Precision\")\n",
    "    plt.title('Different fold_size')\n",
    "    plt.legend()\n",
    "    plt.show()\n",
    "    '''\n",
    "\n",
    "    fold_size = 5\n",
    "    accuracy = 0\n",
    "    for n in range(0, 10):\n",
    "        accuracy = accuracy + N_fold(clf, fold_size) * 100\n",
    "    print(\"\\n-------------------------------------------\")\n",
    "    print(\"10次\", fold_size, \"重交叉平均准确率为\" + str(accuracy / 10) + \"%\")\n",
    "    print(\"-------------------------------------------\\n\")\n",
    "\n",
    "    print(\"done in %0.3fs\" % (time() - t0))\n",
    "    '''\n",
    "    # n_components测试(3-2)\n",
    "    n_components_test_result[str(n_components)] = str(accuracy/10)\n",
    "    y_label.append(accuracy)\n",
    "    '''"
   ]
  },
  {
   "cell_type": "code",
   "execution_count": null,
   "metadata": {},
   "outputs": [],
   "source": [
    "# n_components测试(3-3)\n",
    "print(n_components_test_result)\n",
    "plt.plot(x_label, y_label)\n",
    "\n",
    "plt.xlabel(\"n_components\")\n",
    "plt.ylabel(\"Precision\")\n",
    "plt.title('n_components_test_result')\n",
    "plt.legend()\n",
    "plt.show()"
   ]
  },
  {
   "cell_type": "code",
   "execution_count": null,
   "metadata": {},
   "outputs": [],
   "source": []
  }
 ],
 "metadata": {
  "kernelspec": {
   "display_name": "Python 3 (ipykernel)",
   "language": "python",
   "name": "python3"
  },
  "language_info": {
   "codemirror_mode": {
    "name": "ipython",
    "version": 3
   },
   "file_extension": ".py",
   "mimetype": "text/x-python",
   "name": "python",
   "nbconvert_exporter": "python",
   "pygments_lexer": "ipython3",
   "version": "3.8.11"
  }
 },
 "nbformat": 4,
 "nbformat_minor": 4
}
